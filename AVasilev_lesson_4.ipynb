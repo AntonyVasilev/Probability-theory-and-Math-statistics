{
 "cells": [
  {
   "cell_type": "markdown",
   "metadata": {},
   "source": [
    "### Практическое задание к уроку 4"
   ]
  },
  {
   "cell_type": "markdown",
   "metadata": {},
   "source": [
    "1. __Случайная непрерывная величина A имеет равномерное распределение на промежутке (200, 800]. Найдите ее среднее значение и дисперсию.__"
   ]
  },
  {
   "cell_type": "markdown",
   "metadata": {},
   "source": [
    "Нахожу среднее значение и дисперсию:\n",
    "### $$M(X)=\\frac{a+b}{2}=\\frac{200+800}{2}=500$$\n",
    "### $$D(X)=\\frac{(b-a)^2}{12}=\\frac{(800 - 200)^2}{12}=\\frac{360000}{12}=30000$$"
   ]
  },
  {
   "cell_type": "markdown",
   "metadata": {},
   "source": [
    "2. __О случайной непрерывной равномерно распределенной величине B известно, что ее дисперсия равна 0.2. Можно ли найти правую границу величины B и ее среднее значение зная, что левая граница равна 0.5? Если да, найдите ее.__"
   ]
  },
  {
   "cell_type": "markdown",
   "metadata": {},
   "source": [
    "Найти правую границу и среднее значение можно.\n",
    "$$D(X)=\\frac{(b-a)^2}{12} \\Rightarrow \\frac{(b-0.5)^2}{12}=0.2$$\n",
    "$$(b-0.5)^2=2.4$$\n",
    "$$b^2-b-2.15=0$$\n",
    "$$b=\\frac{-(-1)\\pm \\sqrt{(-1)^1-4\\cdot 1\\cdot (-2.15)}}{2\\cdot1}=\\frac{1 \\pm \\sqrt{9.6}}{2}$$\n",
    "$$b_1=2.05,\\,\\,b_2=-1.05$$\n",
    "### Т.к. $b>a$, следовательно нам подходит только $b=2.05$  \n",
    "### $$D(X)=\\frac{(2.05-0.5)^2}{12}=0.2$$\n",
    "### $$M(X)=\\frac{0.5+2.05}{2}=1.275$$"
   ]
  },
  {
   "cell_type": "markdown",
   "metadata": {},
   "source": [
    "3. __Непрерывная случайная величина X распределена нормально и задана плотностью распределения__  \n",
    "__f(x) = (1 / (4 * sqrt(2*pi))) * (exp(-((x+2)**2) / 32))__  \n",
    "Найдите: а). M(X), б). D(X), в). std(X) (среднее квадратичное отклонение)"
   ]
  },
  {
   "cell_type": "markdown",
   "metadata": {},
   "source": [
    "Из формулы нормального распределения  \n",
    "### $$f(x)=\\frac{1}{\\sigma \\sqrt{2\\pi}}e^{-\\frac{(x-a)^2}{2\\sigma^2}}$$\n",
    "нахожу:  \n",
    "### $$M(X)=-2$$\n",
    "### $$D(x)=16$$\n",
    "### $$std(x)=4$$"
   ]
  },
  {
   "cell_type": "code",
   "execution_count": null,
   "metadata": {},
   "outputs": [],
   "source": []
  }
 ],
 "metadata": {
  "kernelspec": {
   "display_name": "Python 3",
   "language": "python",
   "name": "python3"
  },
  "language_info": {
   "codemirror_mode": {
    "name": "ipython",
    "version": 3
   },
   "file_extension": ".py",
   "mimetype": "text/x-python",
   "name": "python",
   "nbconvert_exporter": "python",
   "pygments_lexer": "ipython3",
   "version": "3.8.5"
  }
 },
 "nbformat": 4,
 "nbformat_minor": 4
}
