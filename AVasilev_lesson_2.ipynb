{
 "cells": [
  {
   "cell_type": "markdown",
   "metadata": {},
   "source": [
    "### Практическое задание к уроку 2"
   ]
  },
  {
   "cell_type": "code",
   "execution_count": 2,
   "metadata": {},
   "outputs": [],
   "source": [
    "from math import factorial, pow, exp"
   ]
  },
  {
   "cell_type": "code",
   "execution_count": 3,
   "metadata": {},
   "outputs": [],
   "source": [
    "def combinations(n, k):\n",
    "    return int(factorial(n) / (factorial(k) * factorial(n - k)))"
   ]
  },
  {
   "cell_type": "markdown",
   "metadata": {},
   "source": [
    "1. __Вероятность того, что стрелок попадет в мишень, выстрелив один раз, равна 0.8. Стрелок выстрелил 100 раз. Найдите вероятность того, что стрелок попадет в цель ровно 85 раз.__"
   ]
  },
  {
   "cell_type": "markdown",
   "metadata": {},
   "source": [
    "Использую формулу Бернулли:\n",
    "$$k=85, n=100, p=0.8, q=0.2$$\n",
    "$$P_{100}(k=85)=C_{100}^85\\cdot 0.8^{85}\\cdot 0.2^{15}=\\frac{100!}{85!(100-85)!}\\cdot 0.8^{85}\\cdot 0.2^{15} \\approx 0.048$$"
   ]
  },
  {
   "cell_type": "code",
   "execution_count": 3,
   "metadata": {},
   "outputs": [
    {
     "data": {
      "text/plain": [
       "253338471349988640"
      ]
     },
     "execution_count": 3,
     "metadata": {},
     "output_type": "execute_result"
    }
   ],
   "source": [
    "c100_85 = combinations(100, 85)\n",
    "c100_85"
   ]
  },
  {
   "cell_type": "code",
   "execution_count": 7,
   "metadata": {},
   "outputs": [
    {
     "data": {
      "text/plain": [
       "0.048061793700746556"
      ]
     },
     "execution_count": 7,
     "metadata": {},
     "output_type": "execute_result"
    }
   ],
   "source": [
    "p = c100_85 * pow(0.8, 85) * pow(0.2, 15)\n",
    "p"
   ]
  },
  {
   "cell_type": "markdown",
   "metadata": {},
   "source": [
    "2. __Вероятность того, что лампочка перегорит в течение первого дня эксплуатации, равна 0.0004. В жилом комплексе после ремонта в один день включили 5000 новых лампочек. Какова вероятность, что ни одна из них не перегорит в первый день? Какова вероятность, что перегорят ровно две?__"
   ]
  },
  {
   "cell_type": "markdown",
   "metadata": {},
   "source": [
    "Использую форулу Пуассона:\n",
    "### $$n=5000, \\lambda =0.0004 \\cdot 5000=2$$\n",
    "* Первый случай $m=0$\n",
    "### $$P_0 \\approx \\frac{2^0}{0!}\\cdot e^{-2} \\approx 0.1353$$"
   ]
  },
  {
   "cell_type": "code",
   "execution_count": 15,
   "metadata": {},
   "outputs": [
    {
     "data": {
      "text/plain": [
       "0.1353352832366127"
      ]
     },
     "execution_count": 15,
     "metadata": {},
     "output_type": "execute_result"
    }
   ],
   "source": [
    "p_0 = (pow(2, 0) / factorial(0)) * exp(-2)\n",
    "p_0"
   ]
  },
  {
   "cell_type": "markdown",
   "metadata": {},
   "source": [
    "* Второй случай $m=2$\n",
    "### $$P_2 \\approx \\frac{2^2}{2!} \\cdot e^{-2} \\approx 0.271$$"
   ]
  },
  {
   "cell_type": "code",
   "execution_count": 17,
   "metadata": {},
   "outputs": [
    {
     "data": {
      "text/plain": [
       "0.2706705664732254"
      ]
     },
     "execution_count": 17,
     "metadata": {},
     "output_type": "execute_result"
    }
   ],
   "source": [
    "p_2 = (pow(2, 2) / factorial(2)) * exp(-2)\n",
    "p_2"
   ]
  },
  {
   "cell_type": "markdown",
   "metadata": {},
   "source": [
    "3. __Монету подбросили 144 раза. Какова вероятность, что орел выпадет ровно 70 раз?__"
   ]
  },
  {
   "cell_type": "markdown",
   "metadata": {},
   "source": [
    "Использую формулу Бернулли:\n",
    "$$k=70, n=144, p=0.5, q=0.5$$\n",
    "### $$P_{144}(k=70)=\\frac{144!}{70!(144-70)!}\\cdot 0.5^{70}\\cdot 0.5^{144-70} \\approx 0.063$$"
   ]
  },
  {
   "cell_type": "code",
   "execution_count": 4,
   "metadata": {},
   "outputs": [
    {
     "data": {
      "text/plain": [
       "0.06281178035144776"
      ]
     },
     "execution_count": 4,
     "metadata": {},
     "output_type": "execute_result"
    }
   ],
   "source": [
    "p_70 = combinations(144, 70) * pow(0.5, 70) * pow(0.5, 74)\n",
    "p_70"
   ]
  },
  {
   "cell_type": "markdown",
   "metadata": {},
   "source": [
    "4. __В первом ящике находится 10 мячей, из которых 7 - белые. Во втором ящике - 11 мячей, из которых 9 белых. Из каждого ящика вытаскивают случайным образом по два мяча. Какова вероятность того, что все мячи белые? Какова вероятность того, что ровно два мяча белые? Какова вероятность того, что хотя бы один мяч белый?__"
   ]
  },
  {
   "cell_type": "markdown",
   "metadata": {},
   "source": [
    "* __Случай, когда все мячи белые.__  \n",
    "Чтобы данное событие наступило, необходимо вытащить из первого ящика два белых мяча и из второго ящика также вытащить два белых мяча. Нахожу количество сочетаний благоприятных для данного исхода для каждого ящика:\n",
    "### $$C_7^2=\\frac{7!}{2!(7-2)!}=\\frac{6 \\cdot 7}{2}=\\frac{42}{2}=21$$\n",
    "### $$C_9^2=\\frac{9!}{2!(9-2)!}=\\frac{8 \\cdot 9}{2}=\\frac{72}{2}=36$$\n",
    "Теперь нахожу общее количество советаний для каждого ящика:\n",
    "### $$C_{10}^2=\\frac{10!}{2!(10-2)!}=\\frac{9 \\cdot 10}{2}=\\frac{90}{2}=45$$\n",
    "### $$C_{11}^2=\\frac{11!}{2!(11-2)!}=\\frac{10 \\cdot 11}{2}=\\frac{110}{2}=55$$\n",
    "Вероятность вытащить четыре белых мяча будет равна сумме благоприятных сочетаний, деленной на сумму общих количеств сочетаний по каждому ящику:\n",
    "### $$P=\\frac{21+36}{45+55}=\\frac{57}{100}=0.57$$"
   ]
  },
  {
   "cell_type": "code",
   "execution_count": 11,
   "metadata": {},
   "outputs": [
    {
     "name": "stdout",
     "output_type": "stream",
     "text": [
      "c7_2 = 21, c9_2 = 36, c10_2 = 45, c11_2 = 55\n"
     ]
    }
   ],
   "source": [
    "c7_2 = combinations(7, 2)\n",
    "c9_2 = combinations(9, 2)\n",
    "c10_2 = combinations(10, 2)\n",
    "c11_2 = combinations(11, 2)\n",
    "print(f'c7_2 = {c7_2}, c9_2 = {c9_2}, c10_2 = {c10_2}, c11_2 = {c11_2}')"
   ]
  },
  {
   "cell_type": "code",
   "execution_count": 17,
   "metadata": {},
   "outputs": [
    {
     "data": {
      "text/plain": [
       "0.57"
      ]
     },
     "execution_count": 17,
     "metadata": {},
     "output_type": "execute_result"
    }
   ],
   "source": [
    "p1 = (c7_2 + c9_2) / (c10_2 + c11_2)\n",
    "p1"
   ]
  },
  {
   "cell_type": "markdown",
   "metadata": {},
   "source": [
    "* __Случай, когда вытащили ровно два белых мяча__  \n",
    "Существует три варианта, при которых два из четырех вытащенных мячей окажутся белыми:\n",
    "1. Из первого ящика вытащили два белых мяча, а из второго - два не белых;\n",
    "2. Из первого ящика - два не белых, а из второго - два белых;\n",
    "3. Из первого ящика - один белый и один не белый, из второго - также один белый и один не белый.\n",
    "Нахожу вероятности наступления каждого из возможных вариантов:  \n",
    "### $$C_7^2=21,\\,\\,\\, C_2^2=\\frac{2!}{2!(2-2)!}=1 \\Rightarrow P_1=\\frac{21+1}{45+55}=0.22$$\n",
    "### $$C_3^2=\\frac{3!}{2!(3-2)!}=3,\\,\\,\\, C_9^2=36 \\Rightarrow P_2=\\frac{3+6}{45+55}=0.39$$\n",
    "### $$C_3^1=\\frac{3!}{1!(3-1)!}=3, C_7^1=\\frac{7!}{1!(7-1)!}=7,\\,\\,\\, C_2^1=2, C_9^1=9 \\Rightarrow P_3=\\frac{3+7+2+9}{45+55}=0.21$$\n",
    "Вероятность будет равна среднему арифметическому получившихся вероятностей:\n",
    "### $$P=\\frac{P_1+P_2+P_3}{3}=\\frac{0.22+0.39+0.21}{3} \\approx 0.273$$"
   ]
  },
  {
   "cell_type": "code",
   "execution_count": 13,
   "metadata": {},
   "outputs": [
    {
     "data": {
      "text/plain": [
       "0.22"
      ]
     },
     "execution_count": 13,
     "metadata": {},
     "output_type": "execute_result"
    }
   ],
   "source": [
    "c2_2 = combinations(2, 2)\n",
    "p_1 = (c7_2 + c2_2) / (c10_2 + c11_2)\n",
    "p_1"
   ]
  },
  {
   "cell_type": "code",
   "execution_count": 14,
   "metadata": {},
   "outputs": [
    {
     "data": {
      "text/plain": [
       "0.39"
      ]
     },
     "execution_count": 14,
     "metadata": {},
     "output_type": "execute_result"
    }
   ],
   "source": [
    "c3_2 = combinations(3, 2)\n",
    "p_2 = (c3_2 + c9_2) / (c10_2 + c11_2)\n",
    "p_2"
   ]
  },
  {
   "cell_type": "code",
   "execution_count": 15,
   "metadata": {},
   "outputs": [
    {
     "data": {
      "text/plain": [
       "0.21"
      ]
     },
     "execution_count": 15,
     "metadata": {},
     "output_type": "execute_result"
    }
   ],
   "source": [
    "c3_1 = combinations(3, 1)\n",
    "c7_1 = combinations(7, 1)\n",
    "c2_1 = combinations(2, 1)\n",
    "c9_1 = combinations(9, 1)\n",
    "p_3 = (c3_1 + c7_1 + c2_1 + c9_1) / (c10_2 + c11_2)\n",
    "p_3"
   ]
  },
  {
   "cell_type": "code",
   "execution_count": 18,
   "metadata": {},
   "outputs": [
    {
     "data": {
      "text/plain": [
       "0.2733333333333333"
      ]
     },
     "execution_count": 18,
     "metadata": {},
     "output_type": "execute_result"
    }
   ],
   "source": [
    "p2 = (p_1 + p_2 + p_3) / 3\n",
    "p2"
   ]
  },
  {
   "cell_type": "markdown",
   "metadata": {},
   "source": [
    "* __Случай, когда хотя бы один мяч белый__  \n",
    "Найти данную вероятность можно, если вычесть из 1 вероятность случая, когда из обоих ящиков вытащили все не белые мячи.\n",
    "### $$C_3^2=3,\\,\\,\\, C_{10}^2=45$$\n",
    "### $$C_2^2=1, C_{11}^2=55$$\n",
    "### $$P_0=\\frac{3+1}{45+55}=0.04 \\Rightarrow P=1-P_0=1-0.04=0.96$$\n"
   ]
  },
  {
   "cell_type": "code",
   "execution_count": 20,
   "metadata": {},
   "outputs": [
    {
     "data": {
      "text/plain": [
       "5985"
      ]
     },
     "execution_count": 20,
     "metadata": {},
     "output_type": "execute_result"
    }
   ],
   "source": [
    "combinations(21, 4)"
   ]
  },
  {
   "cell_type": "code",
   "execution_count": null,
   "metadata": {},
   "outputs": [],
   "source": []
  }
 ],
 "metadata": {
  "kernelspec": {
   "display_name": "Python 3",
   "language": "python",
   "name": "python3"
  },
  "language_info": {
   "codemirror_mode": {
    "name": "ipython",
    "version": 3
   },
   "file_extension": ".py",
   "mimetype": "text/x-python",
   "name": "python",
   "nbconvert_exporter": "python",
   "pygments_lexer": "ipython3",
   "version": "3.8.5"
  }
 },
 "nbformat": 4,
 "nbformat_minor": 4
}
