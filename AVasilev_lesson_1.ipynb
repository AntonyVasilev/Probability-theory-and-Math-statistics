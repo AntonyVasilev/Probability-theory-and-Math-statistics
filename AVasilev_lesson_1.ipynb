{
 "cells": [
  {
   "cell_type": "markdown",
   "metadata": {},
   "source": [
    "### Практическое задание к уроку 1"
   ]
  },
  {
   "cell_type": "code",
   "execution_count": 1,
   "metadata": {},
   "outputs": [],
   "source": [
    "from math import factorial"
   ]
  },
  {
   "cell_type": "code",
   "execution_count": 2,
   "metadata": {},
   "outputs": [],
   "source": [
    "def combinations(n, k):\n",
    "    return int(factorial(n) / (factorial(k) * factorial(n - k)))"
   ]
  },
  {
   "cell_type": "markdown",
   "metadata": {},
   "source": [
    "1. __Из колоды в 52 карты извлекаются случайным образом 4 карты. a) Найти вероятность того, что все карты – крести. б) Найти вероятность, что среди 4-х карт окажется хотя бы один туз.__"
   ]
  },
  {
   "cell_type": "markdown",
   "metadata": {},
   "source": [
    "a) Сначала нахожу количество сочетаний из четырех кард только крестей:\n",
    "### $$C_{13}^4=\\frac{13!}{4!(13-4)!}=\\frac{10 \\cdot 11 \\cdot 12 \\cdot 13}{2 \\cdot 3 \\cdot 4}=\\frac{17160}{24}= 715$$\n",
    "Нахожу количество сочетаний из четырех кард для всей колоды:\n",
    "### $$C_{52}^4=\\frac{52!}{4!(52-4)!}=\\frac{49 \\cdot 50 \\cdot 51 \\cdot 52}{4!}=\\frac{6497400}{24}=270725$$\n",
    "Теперь нахожу вероятность:\n",
    "### $$P=\\frac{715}{270725}=\\frac{11}{4165}$$"
   ]
  },
  {
   "cell_type": "code",
   "execution_count": 7,
   "metadata": {},
   "outputs": [
    {
     "data": {
      "text/plain": [
       "715"
      ]
     },
     "execution_count": 7,
     "metadata": {},
     "output_type": "execute_result"
    }
   ],
   "source": [
    "m = combinations(13, 4)\n",
    "m"
   ]
  },
  {
   "cell_type": "code",
   "execution_count": 8,
   "metadata": {},
   "outputs": [
    {
     "data": {
      "text/plain": [
       "270725"
      ]
     },
     "execution_count": 8,
     "metadata": {},
     "output_type": "execute_result"
    }
   ],
   "source": [
    "n = combinations(52, 4)\n",
    "n"
   ]
  },
  {
   "cell_type": "code",
   "execution_count": 9,
   "metadata": {},
   "outputs": [
    {
     "data": {
      "text/plain": [
       "0.0026410564225690276"
      ]
     },
     "execution_count": 9,
     "metadata": {},
     "output_type": "execute_result"
    }
   ],
   "source": [
    "p = m / n\n",
    "p"
   ]
  },
  {
   "cell_type": "markdown",
   "metadata": {},
   "source": [
    "б) Нахожу количество сочетаний для 1, 2, 3 и 4 тузов из 4-х выбранных карт.\n",
    "$$C_{4}^1=\\frac{4!}{1!(4-1)!}=4$$\n",
    "$$C_{4}^2=\\frac{4!}{2!(4-2)!}=6$$\n",
    "$$C_{4}^3=\\frac{4!}{3!(4-3)!}=4$$\n",
    "$$C_{4}^4=\\frac{4!}{4!(4-4)!}=1$$\n",
    "Нахожу сочетания для остальных карт:\n",
    "$$C_{48}^3=\\frac{48!}{3!(48-3)!}=\\frac{46 \\cdot 47 \\cdot 48}{2 \\cdot 3}=\\frac{103776}{6}=17296$$\n",
    "$$C_{48}^2=\\frac{48!}{2!(48-2)!}=\\frac{47 \\cdot 48}{2 \\cdot 3}\\frac{2256}{6}=376$$"
   ]
  },
  {
   "cell_type": "code",
   "execution_count": 11,
   "metadata": {},
   "outputs": [
    {
     "name": "stdout",
     "output_type": "stream",
     "text": [
      "c_41 = 4, c_42 = 6, c_43 = 4, c_44 = 1\n"
     ]
    }
   ],
   "source": [
    "c_41 = combinations(4, 1)\n",
    "c_42 = combinations(4, 2)\n",
    "c_43 = combinations(4, 3)\n",
    "c_44 = combinations(4, 4)\n",
    "print(f'c_41 = {c_41}, c_42 = {c_42}, c_43 = {c_43}, c_44 = {c_44}')"
   ]
  },
  {
   "cell_type": "code",
   "execution_count": null,
   "metadata": {},
   "outputs": [],
   "source": []
  }
 ],
 "metadata": {
  "kernelspec": {
   "display_name": "Python 3",
   "language": "python",
   "name": "python3"
  },
  "language_info": {
   "codemirror_mode": {
    "name": "ipython",
    "version": 3
   },
   "file_extension": ".py",
   "mimetype": "text/x-python",
   "name": "python",
   "nbconvert_exporter": "python",
   "pygments_lexer": "ipython3",
   "version": "3.8.5"
  }
 },
 "nbformat": 4,
 "nbformat_minor": 4
}
