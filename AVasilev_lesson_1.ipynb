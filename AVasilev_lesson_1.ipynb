{
 "cells": [
  {
   "cell_type": "markdown",
   "metadata": {},
   "source": [
    "### Практическое задание к уроку 1"
   ]
  },
  {
   "cell_type": "code",
   "execution_count": 1,
   "metadata": {},
   "outputs": [],
   "source": [
    "from math import factorial"
   ]
  },
  {
   "cell_type": "code",
   "execution_count": 2,
   "metadata": {},
   "outputs": [],
   "source": [
    "def combinations(n, k):\n",
    "    return int(factorial(n) / (factorial(k) * factorial(n - k)))"
   ]
  },
  {
   "cell_type": "markdown",
   "metadata": {},
   "source": [
    "1. __Из колоды в 52 карты извлекаются случайным образом 4 карты. a) Найти вероятность того, что все карты – крести. б) Найти вероятность, что среди 4-х карт окажется хотя бы один туз.__"
   ]
  },
  {
   "cell_type": "markdown",
   "metadata": {},
   "source": [
    "a) Сначала нахожу количество сочетаний из четырех карт только крестей:\n",
    "$$C_{13}^4=\\frac{13!}{4!(13-4)!}=\\frac{10 \\cdot 11 \\cdot 12 \\cdot 13}{2 \\cdot 3 \\cdot 4}=\\frac{17160}{24}= 715$$\n",
    "Нахожу количество сочетаний из четырех кард для всей колоды:\n",
    "$$C_{52}^4=\\frac{52!}{4!(52-4)!}=\\frac{49 \\cdot 50 \\cdot 51 \\cdot 52}{4!}=\\frac{6497400}{24}=270725$$\n",
    "Теперь нахожу вероятность:\n",
    "$$P=\\frac{715}{270725}=\\frac{11}{4165} \\approx 0.0026=0.26\\%$$"
   ]
  },
  {
   "cell_type": "code",
   "execution_count": 3,
   "metadata": {},
   "outputs": [
    {
     "data": {
      "text/plain": [
       "715"
      ]
     },
     "execution_count": 3,
     "metadata": {},
     "output_type": "execute_result"
    }
   ],
   "source": [
    "m = combinations(13, 4)\n",
    "m"
   ]
  },
  {
   "cell_type": "code",
   "execution_count": 4,
   "metadata": {},
   "outputs": [
    {
     "data": {
      "text/plain": [
       "270725"
      ]
     },
     "execution_count": 4,
     "metadata": {},
     "output_type": "execute_result"
    }
   ],
   "source": [
    "n = combinations(52, 4)\n",
    "n"
   ]
  },
  {
   "cell_type": "code",
   "execution_count": 5,
   "metadata": {},
   "outputs": [
    {
     "data": {
      "text/plain": [
       "0.0026410564225690276"
      ]
     },
     "execution_count": 5,
     "metadata": {},
     "output_type": "execute_result"
    }
   ],
   "source": [
    "p = m / n\n",
    "p"
   ]
  },
  {
   "cell_type": "markdown",
   "metadata": {},
   "source": [
    "б) Нахожу количество сочетаний для 1, 2, 3 и 4 тузов из 4-х выбранных карт.\n",
    "$$C_{4}^1=\\frac{4!}{1!(4-1)!}=4$$\n",
    "$$C_{4}^2=\\frac{4!}{2!(4-2)!}=6$$\n",
    "$$C_{4}^3=\\frac{4!}{3!(4-3)!}=4$$\n",
    "$$C_{4}^4=\\frac{4!}{4!(4-4)!}=1$$\n",
    "Нахожу сочетания для остальных карт:\n",
    "$$C_{48}^3=\\frac{48!}{3!(48-3)!}=\\frac{46 \\cdot 47 \\cdot 48}{2 \\cdot 3}=\\frac{103776}{6}=17296$$\n",
    "$$C_{48}^2=\\frac{48!}{2!(48-2)!}=\\frac{47 \\cdot 48}{2}=\\frac{2256}{2}=1128$$\n",
    "$$C_{48}^1=\\frac(48!)(1!(48-1)!=\\frac{48}{1}= 48$$\n",
    "$$C_{48}^0=\\frac{48!}{0!(48-0)!}=\\frac{1}{1}= 1$$\n",
    "Теперь нахожу общее количество сочетаний по каждому из 4-х вариантов присутствия тузов среди выбранных карт:\n",
    "$$C1=C_{4}^1 \\cdot C_{48}^3=4 \\cdot 17296=69184$$\n",
    "$$C2=C_{4}^2 \\cdot C_{48}^2=6 \\cdot 1128=6768$$\n",
    "$$C3=C_{4}^3 \\cdot C_{48}^1=4 \\cdot 48=192$$\n",
    "$$C4=C_{4}^4 \\cdot C_{48}^0=1 \\cdot 1=1$$\n",
    "Складываю все получившиеся комбинации:\n",
    "$$C= 69184 + 6768 + 192 + 1 = 76145$$\n",
    "Нахожу вероятность:\n",
    "$$P=\\frac{76145}{270725}\\approx 0,28 = 28\\%$$"
   ]
  },
  {
   "cell_type": "code",
   "execution_count": 6,
   "metadata": {},
   "outputs": [
    {
     "name": "stdout",
     "output_type": "stream",
     "text": [
      "c4_1 = 4, c4_2 = 6, c4_3 = 4, c4_4 = 1\n"
     ]
    }
   ],
   "source": [
    "c4_1 = combinations(4, 1)\n",
    "c4_2 = combinations(4, 2)\n",
    "c4_3 = combinations(4, 3)\n",
    "c4_4 = combinations(4, 4)\n",
    "print(f'c4_1 = {c4_1}, c4_2 = {c4_2}, c4_3 = {c4_3}, c4_4 = {c4_4}')"
   ]
  },
  {
   "cell_type": "code",
   "execution_count": 7,
   "metadata": {},
   "outputs": [
    {
     "name": "stdout",
     "output_type": "stream",
     "text": [
      "c48_3 = 17296, c48_2 = 1128, c48_1 = 48, c48_0 = 1\n"
     ]
    }
   ],
   "source": [
    "c48_3 = combinations(48, 3)\n",
    "c48_2 = combinations(48, 2)\n",
    "c48_1 = combinations(48, 1)\n",
    "c48_0 = combinations(48, 0)\n",
    "print(f'c48_3 = {c48_3}, c48_2 = {c48_2}, c48_1 = {c48_1}, c48_0 = {c48_0}')"
   ]
  },
  {
   "cell_type": "code",
   "execution_count": 8,
   "metadata": {},
   "outputs": [
    {
     "name": "stdout",
     "output_type": "stream",
     "text": [
      "c1 = 69184, c2 = 6768, c3 = 192, c4 = 1\n"
     ]
    }
   ],
   "source": [
    "c1 = c4_1 * c48_3\n",
    "c2 = c4_2 * c48_2\n",
    "c3 = c4_3 * c48_1\n",
    "c4 = c4_4 * c48_0\n",
    "print(f'c1 = {c1}, c2 = {c2}, c3 = {c3}, c4 = {c4}')"
   ]
  },
  {
   "cell_type": "code",
   "execution_count": 10,
   "metadata": {},
   "outputs": [
    {
     "data": {
      "text/plain": [
       "0.2812632745405855"
      ]
     },
     "execution_count": 10,
     "metadata": {},
     "output_type": "execute_result"
    }
   ],
   "source": [
    "c = c1 + c2 + c3 + c4\n",
    "p = c / n\n",
    "p"
   ]
  },
  {
   "cell_type": "markdown",
   "metadata": {},
   "source": [
    "2. __На входной двери подъезда установлен кодовый замок, содержащий десять кнопок с цифрами от 0 до 9. Код содержит три цифры, которые нужно нажать одновременно. Какова вероятность того, что человек, не знающий код, откроет дверь с первой попытки?__"
   ]
  },
  {
   "cell_type": "markdown",
   "metadata": {},
   "source": [
    "Т.к. код содержит 3 цифры из 10, а их порядок при этои не важен, т.к. их нажимают одновременно, что нахожу количество сочетаний:\n",
    "$$C_{10}^3=\\frac{10!}{3!(10-3)!}=\\frac{8 \\cdot 9 \\cdot 10}{2 \\cdot 3}=\\frac{720}{6}=120$$\n",
    "Получилось 120 комбинации из 3 цифр. Вероятность угадать код с первой равна:\n",
    "$$P = \\frac{1}{120}\\approx 0.0083=0.83\\%$$"
   ]
  },
  {
   "cell_type": "code",
   "execution_count": 11,
   "metadata": {},
   "outputs": [
    {
     "data": {
      "text/plain": [
       "120"
      ]
     },
     "execution_count": 11,
     "metadata": {},
     "output_type": "execute_result"
    }
   ],
   "source": [
    "c = combinations(10, 3)\n",
    "c"
   ]
  },
  {
   "cell_type": "code",
   "execution_count": 12,
   "metadata": {},
   "outputs": [
    {
     "data": {
      "text/plain": [
       "0.008333333333333333"
      ]
     },
     "execution_count": 12,
     "metadata": {},
     "output_type": "execute_result"
    }
   ],
   "source": [
    "p = 1 / c\n",
    "p"
   ]
  },
  {
   "cell_type": "markdown",
   "metadata": {},
   "source": [
    "3. __В ящике имеется 15 деталей, из которых 9 окрашены. Рабочий случайным образом извлекает 3 детали. Какова вероятность того, что все извлеченные детали окрашены?__"
   ]
  },
  {
   "cell_type": "markdown",
   "metadata": {},
   "source": [
    "Нахожу количество сочетаний окрашенных деталей:\n",
    "$$C_9^3=\\frac{9!}{3!(9-3)!}=\\frac{7 \\cdot 8 \\cdot 9}{2 \\cdot 3}=\\frac{504}{6}=84$$\n",
    "Нахожу количество сочетаний всех деталей:\n",
    "$$C_{15}^3=\\frac{15!}{3!(15-3)!}=\\frac{13 \\cdot 14 \\cdot 13}{2 \\cdot 3}=\\frac{270}{6}=455$$\n",
    "Нахожу вероятность:\n",
    "$$P=\\frac{84}{455} \\approx 0.1846=18.46\\%$$"
   ]
  },
  {
   "cell_type": "code",
   "execution_count": 4,
   "metadata": {},
   "outputs": [
    {
     "name": "stdout",
     "output_type": "stream",
     "text": [
      "c9_3 = 84, c15_3 = 455\n",
      "Вероятность равна 0.18461538461538463\n"
     ]
    }
   ],
   "source": [
    "c9_3 = combinations(9, 3)\n",
    "c15_3 = combinations(15, 3)\n",
    "p = c9_3 / c15_3\n",
    "print(f'c9_3 = {c9_3}, c15_3 = {c15_3}')\n",
    "print(f'Вероятность равна {p}')"
   ]
  },
  {
   "cell_type": "markdown",
   "metadata": {},
   "source": [
    "4. __В лотерее 100 билетов. Из них 2 выигрышных. Какова вероятность того, что 2 приобретенных билета окажутся выигрышными?__"
   ]
  },
  {
   "cell_type": "markdown",
   "metadata": {},
   "source": [
    "Нахожу количество сочетаний из 2-х билетов:\n",
    "$$C_{100}^2=\\frac{100!}{2!(100-2)!}=\\frac{99 \\cdot 100}{2}=\\frac{9900}{2}=4950$$\n",
    "Нахожу вероятность:\n",
    "$$P=\\frac{1}{4950} \\approx 0.0002=0.02\\%$$"
   ]
  },
  {
   "cell_type": "code",
   "execution_count": 7,
   "metadata": {},
   "outputs": [
    {
     "data": {
      "text/plain": [
       "4950"
      ]
     },
     "execution_count": 7,
     "metadata": {},
     "output_type": "execute_result"
    }
   ],
   "source": [
    "c100_2 = combinations(100, 2)\n",
    "c100_2"
   ]
  },
  {
   "cell_type": "code",
   "execution_count": 6,
   "metadata": {},
   "outputs": [
    {
     "data": {
      "text/plain": [
       "0.00020202020202020202"
      ]
     },
     "execution_count": 6,
     "metadata": {},
     "output_type": "execute_result"
    }
   ],
   "source": [
    "p = 1 / c100_2\n",
    "p"
   ]
  }
 ],
 "metadata": {
  "kernelspec": {
   "display_name": "Python 3",
   "language": "python",
   "name": "python3"
  },
  "language_info": {
   "codemirror_mode": {
    "name": "ipython",
    "version": 3
   },
   "file_extension": ".py",
   "mimetype": "text/x-python",
   "name": "python",
   "nbconvert_exporter": "python",
   "pygments_lexer": "ipython3",
   "version": "3.8.5"
  }
 },
 "nbformat": 4,
 "nbformat_minor": 4
}
