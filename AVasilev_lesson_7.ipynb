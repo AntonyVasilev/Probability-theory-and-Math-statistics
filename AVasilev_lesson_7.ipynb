{
 "cells": [
  {
   "cell_type": "markdown",
   "metadata": {},
   "source": [
    "### Практическое задание к уроку 7"
   ]
  },
  {
   "cell_type": "code",
   "execution_count": 2,
   "metadata": {},
   "outputs": [],
   "source": [
    "import numpy as np\n",
    "import matplotlib.pyplot as plt\n",
    "%matplotlib inline"
   ]
  },
  {
   "cell_type": "markdown",
   "metadata": {},
   "source": [
    "1. __Даны значения величины заработной платы заемщиков банка (zp) и значения их поведенческого кредитного скоринга (ks): zp = [35, 45, 190, 200, 40, 70, 54, 150, 120, 110], ks = [401, 574, 874, 919, 459, 739, 653, 902, 746, 832]. Используя математические операции, посчитать коэффициенты линейной регрессии, приняв за X заработную плату (то есть, zp - признак), а за y - значения скорингового балла (то есть, ks - целевая переменная). Произвести расчет как с использованием intercept, так и без.__"
   ]
  },
  {
   "cell_type": "code",
   "execution_count": 3,
   "metadata": {},
   "outputs": [
    {
     "data": {
      "text/plain": [
       "array([ 35,  45, 190, 200,  40,  70,  54, 150, 120, 110])"
      ]
     },
     "execution_count": 3,
     "metadata": {},
     "output_type": "execute_result"
    }
   ],
   "source": [
    "zp = np.array([35, 45, 190, 200, 40, 70, 54, 150, 120, 110])\n",
    "zp"
   ]
  },
  {
   "cell_type": "code",
   "execution_count": 4,
   "metadata": {},
   "outputs": [
    {
     "data": {
      "text/plain": [
       "array([401, 574, 874, 919, 459, 739, 653, 902, 746, 832])"
      ]
     },
     "execution_count": 4,
     "metadata": {},
     "output_type": "execute_result"
    }
   ],
   "source": [
    "ks = np.array([401, 574, 874, 919, 459, 739, 653, 902, 746, 832])\n",
    "ks"
   ]
  },
  {
   "cell_type": "markdown",
   "metadata": {},
   "source": [
    "* Расчитываю коэффициенты без intercept используя матричный метод $y=\\beta_1 \\cdot x$:  \n",
    "### $$\\hat B=(X^T \\cdot X)^{-1} \\cdot X^T \\cdot Y$$"
   ]
  },
  {
   "cell_type": "code",
   "execution_count": 5,
   "metadata": {},
   "outputs": [
    {
     "data": {
      "text/plain": [
       "array([[ 35],\n",
       "       [ 45],\n",
       "       [190],\n",
       "       [200],\n",
       "       [ 40],\n",
       "       [ 70],\n",
       "       [ 54],\n",
       "       [150],\n",
       "       [120],\n",
       "       [110]])"
      ]
     },
     "execution_count": 5,
     "metadata": {},
     "output_type": "execute_result"
    }
   ],
   "source": [
    "x = zp.reshape((10, 1))\n",
    "x"
   ]
  },
  {
   "cell_type": "code",
   "execution_count": 6,
   "metadata": {},
   "outputs": [
    {
     "data": {
      "text/plain": [
       "array([[401],\n",
       "       [574],\n",
       "       [874],\n",
       "       [919],\n",
       "       [459],\n",
       "       [739],\n",
       "       [653],\n",
       "       [902],\n",
       "       [746],\n",
       "       [832]])"
      ]
     },
     "execution_count": 6,
     "metadata": {},
     "output_type": "execute_result"
    }
   ],
   "source": [
    "y = ks.reshape((10, 1))\n",
    "y"
   ]
  },
  {
   "cell_type": "code",
   "execution_count": 7,
   "metadata": {},
   "outputs": [
    {
     "data": {
      "text/plain": [
       "array([[5.88982042]])"
      ]
     },
     "execution_count": 7,
     "metadata": {},
     "output_type": "execute_result"
    }
   ],
   "source": [
    "B1 = np.dot(np.linalg.inv(np.dot(x.T, x)), x.T @ y)\n",
    "B1"
   ]
  },
  {
   "cell_type": "markdown",
   "metadata": {},
   "source": [
    "Получилось уравнение линейной ригрессии вида: $\\hat y=5.89x$  \n",
    "Расчитываю значение функции потерь:"
   ]
  },
  {
   "cell_type": "code",
   "execution_count": 8,
   "metadata": {},
   "outputs": [
    {
     "data": {
      "text/plain": [
       "array([ 206.15,  265.05, 1119.1 , 1178.  ,  235.6 ,  412.3 ,  318.06,\n",
       "        883.5 ,  706.8 ,  647.9 ])"
      ]
     },
     "execution_count": 8,
     "metadata": {},
     "output_type": "execute_result"
    }
   ],
   "source": [
    "y_hat1 = 5.89*zp\n",
    "y_hat1"
   ]
  },
  {
   "cell_type": "code",
   "execution_count": 9,
   "metadata": {},
   "outputs": [
    {
     "data": {
      "text/plain": [
       "56516.85886"
      ]
     },
     "execution_count": 9,
     "metadata": {},
     "output_type": "execute_result"
    }
   ],
   "source": [
    "mse1 = ((ks - y_hat1)**2).sum()/len(ks)\n",
    "mse1"
   ]
  },
  {
   "cell_type": "markdown",
   "metadata": {},
   "source": [
    "* Расчитываю коэффициенты с intercept используя матричный метод $\\hat y=\\beta_0 + \\beta_1 \\cdot x$:"
   ]
  },
  {
   "cell_type": "code",
   "execution_count": 10,
   "metadata": {},
   "outputs": [
    {
     "data": {
      "text/plain": [
       "array([[  1.,  35.],\n",
       "       [  1.,  45.],\n",
       "       [  1., 190.],\n",
       "       [  1., 200.],\n",
       "       [  1.,  40.],\n",
       "       [  1.,  70.],\n",
       "       [  1.,  54.],\n",
       "       [  1., 150.],\n",
       "       [  1., 120.],\n",
       "       [  1., 110.]])"
      ]
     },
     "execution_count": 10,
     "metadata": {},
     "output_type": "execute_result"
    }
   ],
   "source": [
    "x = np.hstack([np.ones((10, 1)), x])\n",
    "x"
   ]
  },
  {
   "cell_type": "code",
   "execution_count": 11,
   "metadata": {},
   "outputs": [
    {
     "data": {
      "text/plain": [
       "array([[444.17735732],\n",
       "       [  2.62053888]])"
      ]
     },
     "execution_count": 11,
     "metadata": {},
     "output_type": "execute_result"
    }
   ],
   "source": [
    "B = np.dot(np.linalg.inv(np.dot(x.T, x)), x.T @ y)\n",
    "B"
   ]
  },
  {
   "cell_type": "markdown",
   "metadata": {},
   "source": [
    "Получилось уравнение линейной ригрессии вида: $\\hat y=444.18 + 2.62x$"
   ]
  },
  {
   "cell_type": "markdown",
   "metadata": {},
   "source": [
    "* Расчитываю коэффициент $\\beta_0$ и $\\beta_1$ по формулам:  \n",
    "### $$a=\\frac{\\overline{x\\cdot y}-\\overline x \\cdot \\overline y}{\\overline {x^2} - \\overline x^2}$$\n",
    "### $$a = \\overline y - b \\cdot \\overline x$$"
   ]
  },
  {
   "cell_type": "code",
   "execution_count": 12,
   "metadata": {},
   "outputs": [
    {
     "data": {
      "text/plain": [
       "2.620538882402765"
      ]
     },
     "execution_count": 12,
     "metadata": {},
     "output_type": "execute_result"
    }
   ],
   "source": [
    "b = (np.mean(zp*ks) - np.mean(zp) * np.mean(ks)) / (np.mean(zp**2) - np.mean(zp)**2)\n",
    "b"
   ]
  },
  {
   "cell_type": "code",
   "execution_count": 13,
   "metadata": {},
   "outputs": [
    {
     "data": {
      "text/plain": [
       "array([[112.6722094]])"
      ]
     },
     "execution_count": 13,
     "metadata": {},
     "output_type": "execute_result"
    }
   ],
   "source": [
    "a = np.mean(ks) - B1 * np.mean(zp)\n",
    "a"
   ]
  },
  {
   "cell_type": "markdown",
   "metadata": {},
   "source": [
    "Получилось точно такое же уравнение регрессии: $\\hat y=444.18 + 2.62x$  \n",
    "Расчитываю значение функции потерь:"
   ]
  },
  {
   "cell_type": "code",
   "execution_count": 14,
   "metadata": {},
   "outputs": [
    {
     "data": {
      "text/plain": [
       "array([535.88, 562.08, 941.98, 968.18, 548.98, 627.58, 585.66, 837.18,\n",
       "       758.58, 732.38])"
      ]
     },
     "execution_count": 14,
     "metadata": {},
     "output_type": "execute_result"
    }
   ],
   "source": [
    "y_hat2 = 444.18+2.62*zp\n",
    "y_hat2"
   ]
  },
  {
   "cell_type": "code",
   "execution_count": 15,
   "metadata": {},
   "outputs": [
    {
     "data": {
      "text/plain": [
       "6470.417919999998"
      ]
     },
     "execution_count": 15,
     "metadata": {},
     "output_type": "execute_result"
    }
   ],
   "source": [
    "mse2 = ((ks - y_hat2)**2).sum()/len(ks)\n",
    "mse2"
   ]
  },
  {
   "cell_type": "code",
   "execution_count": 16,
   "metadata": {},
   "outputs": [
    {
     "data": {
      "image/png": "[encoded data removed]",
      "text/plain": [
       "<Figure size 432x288 with 1 Axes>"
      ]
     },
     "metadata": {
      "needs_background": "light"
     },
     "output_type": "display_data"
    }
   ],
   "source": [
    "plt.scatter(zp, ks)\n",
    "plt.plot(zp, 444.18+2.62*zp)\n",
    "plt.plot(zp, 5.89*zp)\n",
    "plt.show()"
   ]
  },
  {
   "cell_type": "markdown",
   "metadata": {},
   "source": [
    "Значения финкции ошибки показывают, что формула линейной регрессии с intercept лучше описывает набор данных. Это же визуально подтверждают построенный график."
   ]
  },
  {
   "cell_type": "markdown",
   "metadata": {},
   "source": [
    "2. __Посчитать коэффициент линейной регрессии при заработной плате (zp), используя градиентный спуск (без intercept).__"
   ]
  },
  {
   "cell_type": "code",
   "execution_count": 151,
   "metadata": {},
   "outputs": [
    {
     "data": {
      "text/plain": [
       "array([ 35,  45, 190, 200,  40,  70,  54, 150, 120, 110])"
      ]
     },
     "execution_count": 151,
     "metadata": {},
     "output_type": "execute_result"
    }
   ],
   "source": [
    "X = np.array([35, 45, 190, 200, 40, 70, 54, 150, 120, 110])\n",
    "X"
   ]
  },
  {
   "cell_type": "code",
   "execution_count": 152,
   "metadata": {},
   "outputs": [
    {
     "data": {
      "text/plain": [
       "array([401, 574, 874, 919, 459, 739, 653, 902, 746, 832])"
      ]
     },
     "execution_count": 152,
     "metadata": {},
     "output_type": "execute_result"
    }
   ],
   "source": [
    "Y = np.array([401, 574, 874, 919, 459, 739, 653, 902, 746, 832])\n",
    "Y"
   ]
  },
  {
   "cell_type": "code",
   "execution_count": 153,
   "metadata": {},
   "outputs": [],
   "source": [
    "def mse_1(B1, Y=Y, X=X, n = len(X)):\n",
    "    return np.sum((B1 * X - Y)**2) / n"
   ]
  },
  {
   "cell_type": "code",
   "execution_count": 163,
   "metadata": {},
   "outputs": [
    {
     "data": {
      "text/plain": [
       "1e-06"
      ]
     },
     "execution_count": 163,
     "metadata": {},
     "output_type": "execute_result"
    }
   ],
   "source": [
    "alpha = 1e-6\n",
    "alpha"
   ]
  },
  {
   "cell_type": "markdown",
   "metadata": {},
   "source": [
    "Нахожу производную функции ошибок:  \n",
    "$$mse=\\frac{\\sum (\\beta_1 x - y)^2}{n}$$\n",
    "### $$mse'=\\frac{2}{n}\\cdot (\\beta_1 x - y) \\cdot x$$"
   ]
  },
  {
   "cell_type": "code",
   "execution_count": 164,
   "metadata": {},
   "outputs": [
    {
     "data": {
      "text/plain": [
       "10"
      ]
     },
     "execution_count": 164,
     "metadata": {},
     "output_type": "execute_result"
    }
   ],
   "source": [
    "B1 = 0.1\n",
    "n = len(X)\n",
    "n"
   ]
  },
  {
   "cell_type": "code",
   "execution_count": 165,
   "metadata": {},
   "outputs": [
    {
     "name": "stdout",
     "output_type": "stream",
     "text": [
      "Iteration: 100, B1 = 5.535619041013072, mse = 58245.2515982716\n",
      "Iteration: 200, B1 = 5.868151593145588, mse = 56523.327053798086\n",
      "Iteration: 300, B1 = 5.888494795528504, mse = 56516.882625071215\n",
      "Iteration: 400, B1 = 5.8897393229605965, mse = 56516.85850632468\n",
      "Iteration: 500, B1 = 5.889815458885515, mse = 56516.858416058494\n",
      "Iteration: 600, B1 = 5.889820116620584, mse = 56516.85841572067\n",
      "Iteration: 700, B1 = 5.889820401564859, mse = 56516.85841571943\n",
      "Iteration: 800, B1 = 5.889820418996772, mse = 56516.85841571941\n",
      "Iteration: 900, B1 = 5.889820420063197, mse = 56516.8584157194\n",
      "Iteration: 1000, B1 = 5.889820420128437, mse = 56516.8584157194\n",
      "Iteration: 1100, B1 = 5.88982042013243, mse = 56516.85841571939\n",
      "Iteration: 1200, B1 = 5.889820420132673, mse = 56516.85841571943\n"
     ]
    }
   ],
   "source": [
    "for i in range(1, 1201):\n",
    "    B1 -= alpha * (2 / n) * np.sum((B1 * X - Y) * X)\n",
    "    if i % 100 == 0:\n",
    "        print(f'Iteration: {i}, B1 = {B1}, mse = {mse_1(B1)}')"
   ]
  },
  {
   "cell_type": "markdown",
   "metadata": {},
   "source": [
    "3. __Произвести вычисления как в пункте 2, но с вычислением intercept. Учесть, что изменение коэффициентов должно производиться на каждом шаге одновременно (то есть изменение одного коэффициента не должно влиять на изменение другого во время одной итерации).__"
   ]
  },
  {
   "cell_type": "code",
   "execution_count": 63,
   "metadata": {},
   "outputs": [],
   "source": [
    "def mse_2(B_0, B_1, Y=Y, X=X, n = len(X)):\n",
    "    return np.sum((B_0 + B_1 * X - Y)**2) / n"
   ]
  },
  {
   "cell_type": "code",
   "execution_count": 175,
   "metadata": {},
   "outputs": [
    {
     "data": {
      "text/plain": [
       "1e-05"
      ]
     },
     "execution_count": 175,
     "metadata": {},
     "output_type": "execute_result"
    }
   ],
   "source": [
    "alpha = 0.00001\n",
    "alpha"
   ]
  },
  {
   "cell_type": "markdown",
   "metadata": {},
   "source": [
    "Нахожу производные функции ошибок по $\\beta_0$ и $\\beta_1$:  \n",
    "$$mse=\\frac{\\sum (\\beta_0 + \\beta_1 x - y)^2}{n}$$\n",
    "### $$mse'_{\\beta_0}=\\frac{2}{n} \\cdot (\\beta_0+\\beta_1 x - y)$$\n",
    "### $$mse'_{\\beta_1}=\\frac{2}{n}\\cdot (\\beta_0+\\beta_1 x - y) \\cdot x$$"
   ]
  },
  {
   "cell_type": "code",
   "execution_count": 176,
   "metadata": {},
   "outputs": [
    {
     "data": {
      "text/plain": [
       "10"
      ]
     },
     "execution_count": 176,
     "metadata": {},
     "output_type": "execute_result"
    }
   ],
   "source": [
    "B_0, B_0_temp = 0.1, 0.1\n",
    "B_1, B_1_temp = 0.1, 0.1\n",
    "\n",
    "n = len(X)\n",
    "n"
   ]
  },
  {
   "cell_type": "code",
   "execution_count": 177,
   "metadata": {},
   "outputs": [
    {
     "name": "stdout",
     "output_type": "stream",
     "text": [
      "Iteration: 200000, B0 = 283.1948715093171, B1 = 3.8054411524469445, mse = 13044.231858939507\n",
      "Iteration: 400000, B0 = 385.8139954492996, B1 = 3.050119029727752, mse = 7334.468421598251\n",
      "Iteration: 600000, B0 = 423.01802441858695, B1 = 2.776280927667715, mse = 6583.984387436202\n",
      "Iteration: 800000, B0 = 436.50615137197536, B1 = 2.677002349847291, mse = 6485.341721813873\n",
      "Iteration: 1000000, B0 = 441.3962015560758, B1 = 2.6410094184769326, mse = 6472.3762554772975\n",
      "Iteration: 1200000, B0 = 443.1690637841367, B1 = 2.6279603686509874, mse = 6470.672091095034\n",
      "Iteration: 1400000, B0 = 443.8118057522991, B1 = 2.623229503592764, mse = 6470.448097899078\n",
      "Iteration: 1600000, B0 = 444.04482850561317, B1 = 2.6215143531030956, mse = 6470.418656518683\n",
      "Iteration: 1800000, B0 = 444.1293096913029, B1 = 2.6208925342251415, mse = 6470.414786781143\n",
      "Iteration: 2000000, B0 = 444.15993790522555, B1 = 2.6206670970291595, mse = 6470.414278147766\n",
      "Iteration: 2200000, B0 = 444.171042004665, B1 = 2.6205853659478806, mse = 6470.414211293643\n",
      "Iteration: 2400000, B0 = 444.17506773809436, B1 = 2.620555734769962, mse = 6470.414202506421\n",
      "Iteration: 2600000, B0 = 444.17652724679, B1 = 2.620544992140676, mse = 6470.414201351442\n",
      "Iteration: 2800000, B0 = 444.17705638406034, B1 = 2.620541097456421, mse = 6470.414201199632\n",
      "Iteration: 3000000, B0 = 444.1772482200196, B1 = 2.6205396854589456, mse = 6470.4142011796785\n",
      "Iteration: 3200000, B0 = 444.17731776914826, B1 = 2.6205391735466086, mse = 6470.414201177055\n",
      "Iteration: 3400000, B0 = 444.1773429838227, B1 = 2.6205389879554573, mse = 6470.414201176711\n",
      "Iteration: 3600000, B0 = 444.17735212527055, B1 = 2.6205389206703598, mse = 6470.4142011766635\n",
      "Iteration: 3800000, B0 = 444.17735543945383, B1 = 2.6205388962765053, mse = 6470.414201176655\n",
      "Iteration: 4000000, B0 = 444.17735664098285, B1 = 2.6205388874327205, mse = 6470.414201176659\n"
     ]
    }
   ],
   "source": [
    "for i in range(1, 4000001):\n",
    "    B_0_temp -= alpha * (2 / n) * np.sum(B_0 + B_1 * X - Y)\n",
    "    B_1_temp -= alpha * (2 / n) * np.sum((B_0 + B_1 * X - Y) * X)\n",
    "    B_0, B_1 = B_0_temp, B_1_temp\n",
    "    if i % 200000 == 0:\n",
    "        print(f'Iteration: {i}, B0 = {B_0}, B1 = {B_1}, mse = {mse_2(B_0, B_1)}')"
   ]
  },
  {
   "cell_type": "code",
   "execution_count": null,
   "metadata": {},
   "outputs": [],
   "source": []
  }
 ],
 "metadata": {
  "kernelspec": {
   "display_name": "Python 3",
   "language": "python",
   "name": "python3"
  },
  "language_info": {
   "codemirror_mode": {
    "name": "ipython",
    "version": 3
   },
   "file_extension": ".py",
   "mimetype": "text/x-python",
   "name": "python",
   "nbconvert_exporter": "python",
   "pygments_lexer": "ipython3",
   "version": "3.8.5"
  }
 },
 "nbformat": 4,
 "nbformat_minor": 4
}
