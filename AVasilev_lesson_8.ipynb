{
 "cells": [
  {
   "cell_type": "markdown",
   "metadata": {},
   "source": [
    "### Практическое задание к уроку 8"
   ]
  },
  {
   "cell_type": "markdown",
   "metadata": {},
   "source": [
    "__Провести дисперсионный анализ для определения того, есть ли различия среднего роста среди взрослых футболистов, хоккеистов и штангистов.  \n",
    "Даны значения роста в трех группах случайно выбранных спортсменов:  \n",
    "Футболисты: 173, 175, 180, 178, 177, 185, 183, 182.  \n",
    "Хоккеисты: 177, 179, 180, 188, 177, 172, 171, 184, 180.  \n",
    "Штангисты: 172, 173, 169, 177, 166, 180, 178, 177, 172, 166, 170.__"
   ]
  },
  {
   "cell_type": "code",
   "execution_count": 7,
   "metadata": {},
   "outputs": [],
   "source": [
    "import numpy as np\n",
    "from scipy import stats"
   ]
  },
  {
   "cell_type": "code",
   "execution_count": 2,
   "metadata": {},
   "outputs": [
    {
     "data": {
      "text/plain": [
       "array([173, 175, 180, 178, 177, 185, 183, 182])"
      ]
     },
     "execution_count": 2,
     "metadata": {},
     "output_type": "execute_result"
    }
   ],
   "source": [
    "f = np.array([173, 175, 180, 178, 177, 185, 183, 182])\n",
    "f"
   ]
  },
  {
   "cell_type": "code",
   "execution_count": 3,
   "metadata": {},
   "outputs": [
    {
     "data": {
      "text/plain": [
       "array([177, 179, 180, 188, 177, 172, 171, 184, 180])"
      ]
     },
     "execution_count": 3,
     "metadata": {},
     "output_type": "execute_result"
    }
   ],
   "source": [
    "h = np.array([177, 179, 180, 188, 177, 172, 171, 184, 180])\n",
    "h"
   ]
  },
  {
   "cell_type": "code",
   "execution_count": 4,
   "metadata": {},
   "outputs": [
    {
     "data": {
      "text/plain": [
       "array([172, 173, 169, 177, 166, 180, 178, 177, 172, 166, 170])"
      ]
     },
     "execution_count": 4,
     "metadata": {},
     "output_type": "execute_result"
    }
   ],
   "source": [
    "sh = np.array([172, 173, 169, 177, 166, 180, 178, 177, 172, 166, 170])\n",
    "sh"
   ]
  },
  {
   "cell_type": "markdown",
   "metadata": {},
   "source": [
    "Нулевая гипотеза: $\\mu_f = \\mu_h = \\mu_{sh}$  \n",
    "Альтернативная гипотеза: $\\mu_f \\neq \\mu_h \\neq \\mu_{sh}$  \n",
    "Уровень значимости: $\\alpha=0.05$"
   ]
  },
  {
   "cell_type": "code",
   "execution_count": 9,
   "metadata": {},
   "outputs": [
    {
     "data": {
      "text/plain": [
       "F_onewayResult(statistic=5.500053450812596, pvalue=0.010482206918698694)"
      ]
     },
     "execution_count": 9,
     "metadata": {},
     "output_type": "execute_result"
    }
   ],
   "source": [
    "stats.f_oneway(f, h, sh)"
   ]
  },
  {
   "cell_type": "markdown",
   "metadata": {},
   "source": [
    "__Вывод:__ Получившееся значение pvalue меньше установленного уровня значимости $\\alpha=0.05$. Исходя из этого можно утверждать, что найдены статестически значимые различия среднего роста среди взрослых футболистов, хоккеистов и штангистов."
   ]
  }
 ],
 "metadata": {
  "kernelspec": {
   "display_name": "Python 3",
   "language": "python",
   "name": "python3"
  },
  "language_info": {
   "codemirror_mode": {
    "name": "ipython",
    "version": 3
   },
   "file_extension": ".py",
   "mimetype": "text/x-python",
   "name": "python",
   "nbconvert_exporter": "python",
   "pygments_lexer": "ipython3",
   "version": "3.8.5"
  }
 },
 "nbformat": 4,
 "nbformat_minor": 4
}
