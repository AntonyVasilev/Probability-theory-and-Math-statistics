{
 "cells": [
  {
   "cell_type": "markdown",
   "metadata": {},
   "source": [
    "### Практическое задание к уроку 3"
   ]
  },
  {
   "cell_type": "code",
   "execution_count": 1,
   "metadata": {},
   "outputs": [],
   "source": [
    "import numpy as np\n",
    "from math import factorial, pow, exp"
   ]
  },
  {
   "cell_type": "code",
   "execution_count": 2,
   "metadata": {},
   "outputs": [],
   "source": [
    "def combinations(n, k):\n",
    "    return int(factorial(n) / (factorial(k) * factorial(n - k)))"
   ]
  },
  {
   "cell_type": "markdown",
   "metadata": {},
   "source": [
    "1. __Даны значения зарплат из выборки выпускников: 100, 80, 75, 77, 89, 33, 45, 25, 65, 17, 30, 24, 57, 55, 70, 75, 65, 84, 90, 150. Посчитать (желательно без использования статистических методов наподобие std, var, mean) среднее арифметическое, среднее квадратичное отклонение, смещенную и несмещенную оценки дисперсий для данной выборки.__\n",
    "\n",
    "Среднее арифметическое:\n",
    "### $$\\overline{X} = \\frac{1}{20} \\sum_{i=1}^{20} a_i = \\frac{1306}{20}=65.3$$\n",
    "Несмещенная дисперсия:\n",
    "### $$S^2=\\frac{\\sum_{i=1}^{20} (a_i - \\overline{x})^2}{20-1}=\\frac{19002.2}{19}=1000.116$$\n",
    "Смещенная дисперсия:\n",
    "### $$S^2=\\frac{\\sum_{i=1}^{20} (a_i - \\overline{x})^2}{20}=\\frac{19002.2}{20}=950.11$$\n",
    "Несмещенное стандартное отклонение:\n",
    "### $$S=\\sqrt{S^2}=\\sqrt{1000.116}=31.625$$\n",
    "Смещенное стандартное отклонение:\n",
    "### $$S=\\sqrt{S^2}=\\sqrt{950.11}=30.824$$"
   ]
  },
  {
   "cell_type": "code",
   "execution_count": 3,
   "metadata": {},
   "outputs": [
    {
     "data": {
      "text/plain": [
       "array([100,  80,  75,  77,  89,  33,  45,  25,  65,  17,  30,  24,  57,\n",
       "        55,  70,  75,  65,  84,  90, 150])"
      ]
     },
     "execution_count": 3,
     "metadata": {},
     "output_type": "execute_result"
    }
   ],
   "source": [
    "a = np.array([100, 80, 75, 77, 89, 33, 45, 25, 65, 17, 30, 24, 57, 55, 70, 75, 65, 84, 90, 150])\n",
    "a"
   ]
  },
  {
   "cell_type": "code",
   "execution_count": 7,
   "metadata": {},
   "outputs": [
    {
     "data": {
      "text/plain": [
       "(20,)"
      ]
     },
     "execution_count": 7,
     "metadata": {},
     "output_type": "execute_result"
    }
   ],
   "source": [
    "a.shape"
   ]
  },
  {
   "cell_type": "code",
   "execution_count": 4,
   "metadata": {},
   "outputs": [
    {
     "data": {
      "text/plain": [
       "array([ 17,  24,  25,  30,  33,  45,  55,  57,  65,  65,  70,  75,  75,\n",
       "        77,  80,  84,  89,  90, 100, 150])"
      ]
     },
     "execution_count": 4,
     "metadata": {},
     "output_type": "execute_result"
    }
   ],
   "source": [
    "a.sort()\n",
    "a"
   ]
  },
  {
   "cell_type": "code",
   "execution_count": 31,
   "metadata": {},
   "outputs": [
    {
     "data": {
      "text/plain": [
       "65.3"
      ]
     },
     "execution_count": 31,
     "metadata": {},
     "output_type": "execute_result"
    }
   ],
   "source": [
    "# Среднее арифметическое\n",
    "avg_a = a.sum() / len(a)\n",
    "avg_a"
   ]
  },
  {
   "cell_type": "code",
   "execution_count": 36,
   "metadata": {},
   "outputs": [
    {
     "data": {
      "text/plain": [
       "1000.116"
      ]
     },
     "execution_count": 36,
     "metadata": {},
     "output_type": "execute_result"
    }
   ],
   "source": [
    "# Несмещенная дисперсия\n",
    "unbiased_var = np.power(a-avg, 2).sum() / (len(a) - 1)\n",
    "round(unbiased_var, 3)"
   ]
  },
  {
   "cell_type": "code",
   "execution_count": 37,
   "metadata": {},
   "outputs": [
    {
     "data": {
      "text/plain": [
       "950.11"
      ]
     },
     "execution_count": 37,
     "metadata": {},
     "output_type": "execute_result"
    }
   ],
   "source": [
    "# Смещенная дисперсия\n",
    "biased_var = np.power(a-avg, 2).sum() / len(a)\n",
    "round(biased_var, 3)"
   ]
  },
  {
   "cell_type": "code",
   "execution_count": 38,
   "metadata": {},
   "outputs": [
    {
     "data": {
      "text/plain": [
       "31.625"
      ]
     },
     "execution_count": 38,
     "metadata": {},
     "output_type": "execute_result"
    }
   ],
   "source": [
    "# Несмещенное стандартное отклонение\n",
    "unbiased_std = np.sqrt(unbiased_var)\n",
    "round(unbiased_std, 3)"
   ]
  },
  {
   "cell_type": "code",
   "execution_count": 39,
   "metadata": {},
   "outputs": [
    {
     "data": {
      "text/plain": [
       "30.824"
      ]
     },
     "execution_count": 39,
     "metadata": {},
     "output_type": "execute_result"
    }
   ],
   "source": [
    "# Смещенное стандартное отклонение\n",
    "biased_std = np.sqrt(biased_var)\n",
    "round(biased_std, 3)"
   ]
  },
  {
   "cell_type": "markdown",
   "metadata": {},
   "source": [
    "2. __В первом ящике находится 8 мячей, из которых 5 - белые. Во втором ящике - 12 мячей, из которых 5 белых. Из первого ящика вытаскивают случайным образом два мяча, из второго - 4. Какова вероятность того, что 3 мяча белые?__"
   ]
  },
  {
   "cell_type": "markdown",
   "metadata": {},
   "source": [
    "Получается 3 случая, при которых из двух ящиков вытащат 3 белых мяча.  \n",
    "а) Из первого ящика вытащили 2 белых мяча, а из второго - 1 белый и 3 не белых:"
   ]
  },
  {
   "cell_type": "code",
   "execution_count": 3,
   "metadata": {},
   "outputs": [
    {
     "data": {
      "text/plain": [
       "0.126"
      ]
     },
     "execution_count": 3,
     "metadata": {},
     "output_type": "execute_result"
    }
   ],
   "source": [
    "p1 = (combinations(5, 2) / combinations(8, 2)) * ( (combinations(5, 1) * combinations(7, 3)) / combinations(12, 4) )\n",
    "round(p1, 3)"
   ]
  },
  {
   "cell_type": "markdown",
   "metadata": {},
   "source": [
    "б) Из первого ящика вытащили 1 белый и 1 не белый мячи, а из второго - 2 белых и 2 не белых:"
   ]
  },
  {
   "cell_type": "code",
   "execution_count": 4,
   "metadata": {},
   "outputs": [
    {
     "data": {
      "text/plain": [
       "0.227"
      ]
     },
     "execution_count": 4,
     "metadata": {},
     "output_type": "execute_result"
    }
   ],
   "source": [
    "p2 = ( (combinations(5, 1) * combinations(3, 1)) / combinations(8, 2) ) * ( (combinations(5, 2) * combinations(7, 2)) / combinations(12, 4) )\n",
    "round(p2, 3)"
   ]
  },
  {
   "cell_type": "markdown",
   "metadata": {},
   "source": [
    "в) Из первого ящика вытащили 2 не белых мяча, а из вторго - 3 белых и 1 не белый:"
   ]
  },
  {
   "cell_type": "code",
   "execution_count": 7,
   "metadata": {},
   "outputs": [
    {
     "data": {
      "text/plain": [
       "0.015"
      ]
     },
     "execution_count": 7,
     "metadata": {},
     "output_type": "execute_result"
    }
   ],
   "source": [
    "p3 = (combinations(3, 2) / combinations(8, 2)) * ( (combinations(5, 3) * combinations(7, 1)) / combinations(12, 4) )\n",
    "round(p3, 3)"
   ]
  },
  {
   "cell_type": "markdown",
   "metadata": {},
   "source": [
    "Вероятность того, что 3 мяча белые равна:"
   ]
  },
  {
   "cell_type": "code",
   "execution_count": 8,
   "metadata": {},
   "outputs": [
    {
     "data": {
      "text/plain": [
       "0.369"
      ]
     },
     "execution_count": 8,
     "metadata": {},
     "output_type": "execute_result"
    }
   ],
   "source": [
    "p = p1 + p2 + p3\n",
    "round(p, 3)"
   ]
  },
  {
   "cell_type": "markdown",
   "metadata": {},
   "source": [
    "3. __На соревновании по биатлону один из трех спортсменов стреляет и попадает в мишень. Вероятность попадания для первого спортсмена равна 0.9, для второго — 0.8, для третьего — 0.6. Найти вероятность того, что выстрел произведен: a). первым спортсменом б). вторым спортсменом в). третьим спортсменом.__"
   ]
  },
  {
   "cell_type": "markdown",
   "metadata": {},
   "source": [
    "Для нахождения вероятности использую формулу Байеса.  \n",
    "Вероятность попадания в мишень каждым спортсменом: $P(A|B_1)=0.9,\\,\\, P(A|B_2)=0.8,\\,\\, P(A|B_3)=0.6$  \n",
    "Вероятность выстрела каждым спротсменом: $P(B_1)=P(B_2)=P(B_3)=\\frac{1}{3}$  \n",
    "Нахожу вероятность попадания в мишень по формуле полной вероятности:  \n",
    "$$P(A)=\\Bigl(\\frac{9}{10}\\cdot \\frac{1}{3} + \\frac{8}{10}\\cdot \\frac{1}{3} + \\frac{6}{10}\\cdot \\frac{1}{3} \\Bigr)=\\frac{9}{30}+\\frac{8}{30}+\\frac{6}{30}=\\frac{23}{30}$$\n",
    "Нахожу вероятности по каждому спротсмену:  \n",
    "### $$P(B_1)=\\frac{P(B_1)\\cdot P(A|B_1)}{P(A)}=\\frac{1}{3}\\cdot \\frac{9}{10}: \\frac{23}{30}=\\frac{270}{690} \\approx 0.391$$\n",
    "### $$P(B_2)=\\frac{P(B_2)\\cdot P(A|B_2)}{P(A)}=\\frac{1}{3}\\cdot \\frac{8}{10}: \\frac{23}{30}=\\frac{240}{690} \\approx 0.348$$\n",
    "### $$P(B_3)=\\frac{P(B_3)\\cdot P(A|B_3)}{P(A)}=\\frac{1}{3}\\cdot \\frac{6}{10}: \\frac{23}{30}=\\frac{180}{690} \\approx 0.261$$"
   ]
  },
  {
   "cell_type": "code",
   "execution_count": 14,
   "metadata": {},
   "outputs": [],
   "source": [
    "p_b1 = p_b2 = p_b3 = 1/3\n",
    "p_a_b1 = 0.9\n",
    "p_a_b2 = 0.8\n",
    "p_a_b3 = 0.6"
   ]
  },
  {
   "cell_type": "code",
   "execution_count": 16,
   "metadata": {},
   "outputs": [
    {
     "data": {
      "text/plain": [
       "0.767"
      ]
     },
     "execution_count": 16,
     "metadata": {},
     "output_type": "execute_result"
    }
   ],
   "source": [
    "p_a = p_a_b1 * p_b1 + p_a_b2 * p_b2 + p_a_b3 * p_b3\n",
    "round(p_a, 3)"
   ]
  },
  {
   "cell_type": "code",
   "execution_count": 19,
   "metadata": {},
   "outputs": [
    {
     "data": {
      "text/plain": [
       "0.391"
      ]
     },
     "execution_count": 19,
     "metadata": {},
     "output_type": "execute_result"
    }
   ],
   "source": [
    "p_1 = (p_a_b1 * p_b1) / p_a\n",
    "round(p_1, 3)"
   ]
  },
  {
   "cell_type": "code",
   "execution_count": 20,
   "metadata": {},
   "outputs": [
    {
     "data": {
      "text/plain": [
       "0.348"
      ]
     },
     "execution_count": 20,
     "metadata": {},
     "output_type": "execute_result"
    }
   ],
   "source": [
    "p_2 = (p_a_b2 * p_b2) / p_a\n",
    "round(p_2, 3)"
   ]
  },
  {
   "cell_type": "code",
   "execution_count": 21,
   "metadata": {},
   "outputs": [
    {
     "data": {
      "text/plain": [
       "0.261"
      ]
     },
     "execution_count": 21,
     "metadata": {},
     "output_type": "execute_result"
    }
   ],
   "source": [
    "p_3 = (p_a_b3 * p_b3) / p_a\n",
    "round(p_3, 3)"
   ]
  },
  {
   "cell_type": "code",
   "execution_count": 22,
   "metadata": {},
   "outputs": [
    {
     "data": {
      "text/plain": [
       "1.0"
      ]
     },
     "execution_count": 22,
     "metadata": {},
     "output_type": "execute_result"
    }
   ],
   "source": [
    "p = p_1 + p_2 + p_3\n",
    "p"
   ]
  },
  {
   "cell_type": "markdown",
   "metadata": {},
   "source": [
    "4. __В университет на факультеты A и B поступило равное количество студентов, а на факультет C студентов поступило столько же, сколько на A и B вместе. Вероятность того, что студент факультета A сдаст первую сессию, равна 0.8. Для студента факультета B эта вероятность равна 0.7, а для студента факультета C - 0.9. Студент сдал первую сессию. Какова вероятность, что он учится: a). на факультете A б). на факультете B в). на факультете C?__"
   ]
  },
  {
   "cell_type": "markdown",
   "metadata": {},
   "source": [
    "Также использую формуду Байеса.  \n",
    "Вероятности сдать студентом первую сессию по каждому факультету: $P(A|B_a)=0.8,\\,\\, P(A|B_b)=0.7,\\,\\, P(A|B_c)=0.9$  \n",
    "Т.к. на факультет $C$ поступило студентов в количестве $A+B$, то вероятность сдачи экзамена для студентов по факультетам: $P(B_a)=P(B_b)=0.25,\\,\\, P(B_c)=0.5$  \n",
    "Нахожу вероятность успешной сдачи экзамена:  \n",
    "$P(A)=0.8 \\cdot 0.25 + 0.7 \\cdot 0.25 + 0.9 \\cdot 0.5= 0.2 + 0.175 + 0.45=0.825$  \n",
    "Вероятность придадлежность студента в каждому из факультетов:  \n",
    "### $$P(B_a|A)=\\frac{0.8\\cdot 0.25}{0.825} \\approx 0.2424$$\n",
    "### $$P(B_b|A)=\\frac{0.7\\cdot 0.25}{0.825} \\approx 0.2121$$\n",
    "### $$P(B_c|A)=\\frac{0.9\\cdot 0.5}{0.825} \\approx 0.5455$$"
   ]
  },
  {
   "cell_type": "code",
   "execution_count": 1,
   "metadata": {},
   "outputs": [],
   "source": [
    "p_ba = p_bb = 0.25\n",
    "p_bc = 0.5\n",
    "p_a_ba = 0.8\n",
    "p_a_bb = 0.7\n",
    "p_a_bc = 0.9"
   ]
  },
  {
   "cell_type": "code",
   "execution_count": 2,
   "metadata": {},
   "outputs": [
    {
     "data": {
      "text/plain": [
       "0.825"
      ]
     },
     "execution_count": 2,
     "metadata": {},
     "output_type": "execute_result"
    }
   ],
   "source": [
    "p_a = p_a_ba * p_ba + p_a_bb * p_bb + p_a_bc * p_bc\n",
    "p_a"
   ]
  },
  {
   "cell_type": "code",
   "execution_count": 3,
   "metadata": {},
   "outputs": [
    {
     "data": {
      "text/plain": [
       "0.2424"
      ]
     },
     "execution_count": 3,
     "metadata": {},
     "output_type": "execute_result"
    }
   ],
   "source": [
    "p_1 = (p_a_ba * p_ba) / p_a\n",
    "round(p_1, 4)"
   ]
  },
  {
   "cell_type": "code",
   "execution_count": 4,
   "metadata": {},
   "outputs": [
    {
     "data": {
      "text/plain": [
       "0.2121"
      ]
     },
     "execution_count": 4,
     "metadata": {},
     "output_type": "execute_result"
    }
   ],
   "source": [
    "p_2 = (p_a_bb * p_bb) / p_a\n",
    "round(p_2, 4)"
   ]
  },
  {
   "cell_type": "code",
   "execution_count": 5,
   "metadata": {},
   "outputs": [
    {
     "data": {
      "text/plain": [
       "0.5455"
      ]
     },
     "execution_count": 5,
     "metadata": {},
     "output_type": "execute_result"
    }
   ],
   "source": [
    "p_3 = (p_a_bc * p_bc) / p_a\n",
    "round(p_3, 4)"
   ]
  },
  {
   "cell_type": "code",
   "execution_count": 6,
   "metadata": {},
   "outputs": [
    {
     "data": {
      "text/plain": [
       "1.0"
      ]
     },
     "execution_count": 6,
     "metadata": {},
     "output_type": "execute_result"
    }
   ],
   "source": [
    "p = p_1 + p_2 + p_3\n",
    "p"
   ]
  },
  {
   "cell_type": "markdown",
   "metadata": {},
   "source": [
    "5. __Устройство состоит из трех деталей. Для первой детали вероятность выйти из строя в первый месяц равна 0.1, для второй - 0.2, для третьей - 0.25. Какова вероятность того, что в первый месяц выйдут из строя: а). все детали б). только две детали в). хотя бы одна деталь г). от одной до двух деталей?__"
   ]
  },
  {
   "cell_type": "markdown",
   "metadata": {},
   "source": [
    "Выход из строя деталей устройства - это независимые и совместимые события.  \n",
    "$P(A_1)=0.1,\\,\\, P(A_2)=0.2,\\,\\, P(A_3)=0.25$"
   ]
  },
  {
   "cell_type": "code",
   "execution_count": 10,
   "metadata": {},
   "outputs": [],
   "source": [
    "p_a1 = 0.1\n",
    "p_a2 = 0.2\n",
    "p_a3 = 0.25"
   ]
  },
  {
   "cell_type": "markdown",
   "metadata": {},
   "source": [
    "__а) Вероятность того, что из строя выйдут все детали.__\n",
    "### $$B_1=A_1 \\cdot A_2 \\cdot A_3 \\Rightarrow P(B_1)=P(A_1) \\cdot P(A_2) \\cdot P(A_3)=0.1 \\cdot 0.2 \\cdot 0.25 =0.005$$"
   ]
  },
  {
   "cell_type": "code",
   "execution_count": 11,
   "metadata": {},
   "outputs": [
    {
     "data": {
      "text/plain": [
       "0.005"
      ]
     },
     "execution_count": 11,
     "metadata": {},
     "output_type": "execute_result"
    }
   ],
   "source": [
    "p_b1 = p_a1 * p_a2 * p_a3\n",
    "round(p_b1, 3)"
   ]
  },
  {
   "cell_type": "markdown",
   "metadata": {},
   "source": [
    "__б) Вероятность того, что из стоя выйдут только две детали.__  \n",
    "Тут возможно три варианта:\n",
    "* Одновременно из стоя выйдут 1 и 2 детали\n",
    "* Одновременно из стоя выйдут 1 и 3 детали\n",
    "* Одновременно из стоя выйдут 2 и 3 детали \n",
    "Вероятность будет равна:\n",
    "### $$P(B_2)=(1-P(A_1))\\cdot P(A_2) \\cdot P(A_3) + P(A_1)\\cdot (1-P(A_2)) \\cdot P(A_3) + P(A_1)\\cdot P(A_2) \\cdot (1-P(A_3))=(1-0.1)\\cdot 0.2\\cdot 0.25 + 0.1\\cdot (1-0.2)\\cdot 0.25 + 0.1\\cdot 0.2\\cdot (1-0.25)=0.08$$"
   ]
  },
  {
   "cell_type": "code",
   "execution_count": 12,
   "metadata": {},
   "outputs": [
    {
     "data": {
      "text/plain": [
       "0.08"
      ]
     },
     "execution_count": 12,
     "metadata": {},
     "output_type": "execute_result"
    }
   ],
   "source": [
    "p_b2 = (1 - p_a1) * p_a2 * p_a3 + p_a1 * (1 - p_a2) * p_a3 + p_a1 * p_a2 * (1 - p_a3)\n",
    "p_b2"
   ]
  },
  {
   "cell_type": "markdown",
   "metadata": {},
   "source": [
    "__в) Вероятноять того, что из строя выйдет хотя бы одна деталь.__  \n",
    "### $$P(B_3)=1 - (1-P(B_1))\\cdot (1-P(B_2))\\cdot (1-P(B_3))=1-(1-0.1) \\cdot (1-0.2)\\cdot(1-0.25)=0.46$$"
   ]
  },
  {
   "cell_type": "code",
   "execution_count": 16,
   "metadata": {},
   "outputs": [
    {
     "data": {
      "text/plain": [
       "0.46"
      ]
     },
     "execution_count": 16,
     "metadata": {},
     "output_type": "execute_result"
    }
   ],
   "source": [
    "p_b3 = 1 - (1 - p_a1) * (1 - p_a2) * (1 - p_a3)\n",
    "round(p_b3, 3)"
   ]
  },
  {
   "cell_type": "markdown",
   "metadata": {},
   "source": [
    "__г) Вероятность того, что из строя выйдет одна или две детали.__  \n",
    "Вероятность будет равна:  \n",
    "### $$P(B_4)=P(B_3)-P(B_1)=0.46-0.005=0.455$$"
   ]
  },
  {
   "cell_type": "code",
   "execution_count": 19,
   "metadata": {},
   "outputs": [
    {
     "data": {
      "text/plain": [
       "0.455"
      ]
     },
     "execution_count": 19,
     "metadata": {},
     "output_type": "execute_result"
    }
   ],
   "source": [
    "p_b4 = p_b3 - p_b1\n",
    "round(p_b4, 3)"
   ]
  }
 ],
 "metadata": {
  "kernelspec": {
   "display_name": "Python 3",
   "language": "python",
   "name": "python3"
  },
  "language_info": {
   "codemirror_mode": {
    "name": "ipython",
    "version": 3
   },
   "file_extension": ".py",
   "mimetype": "text/x-python",
   "name": "python",
   "nbconvert_exporter": "python",
   "pygments_lexer": "ipython3",
   "version": "3.8.5"
  }
 },
 "nbformat": 4,
 "nbformat_minor": 4
}
